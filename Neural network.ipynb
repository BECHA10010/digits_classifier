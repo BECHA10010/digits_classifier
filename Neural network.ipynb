{
 "cells": [
  {
   "cell_type": "code",
   "execution_count": 1,
   "id": "47688cd0",
   "metadata": {},
   "outputs": [],
   "source": [
    "import numpy as np\n",
    "import scipy.special as sc\n",
    "import matplotlib.pyplot as plt\n",
    "import tkinter as tk\n",
    "\n",
    "from tkinter import *\n",
    "from PIL import Image, ImageDraw, ImageOps"
   ]
  },
  {
   "cell_type": "code",
   "execution_count": 2,
   "id": "0a745afa",
   "metadata": {},
   "outputs": [],
   "source": [
    "class DrawingApp(tk.Tk):\n",
    "    def __init__(self):\n",
    "        tk.Tk.__init__(self)\n",
    "        \n",
    "        self.title('Нарисуйте свою цифру')\n",
    "        self.geometry('300x360')\n",
    "        self.resizable(0, 0) # запрет на изменение размеров окна\n",
    "        \n",
    "        self.brush_size = 10 # размер кисти\n",
    "        self.brush_color = 'black' # цвет кисти\n",
    "        \n",
    "        self.rowconfigure(2, weight=1)\n",
    "        self.columnconfigure(2, weight=1)\n",
    "        \n",
    "        self.canvas = tk.Canvas(self, bg='white')\n",
    "        self.canvas.grid(row=2, column=0, columnspan=7, padx=5, pady=5, sticky=E + W + S + N)\n",
    "        self.canvas.bind('<B1-Motion>', self.draw)\n",
    "\n",
    "        self.image_number = Image.new('L', (280, 280), 'black')\n",
    "        self.draw_image = ImageDraw.Draw(self.image_number)\n",
    "\n",
    "        self.label = tk.Label(self, text='Размер кисти: ').grid(row=0, column=0, padx=6)\n",
    "\n",
    "        self.v = IntVar(value=10)\n",
    "        self.scale = tk.Scale(self, variable=self.v, from_=5, to=20, orient=HORIZONTAL, command=self.select).grid(row=0, column=1, padx=6)\n",
    "\n",
    "        self.button_clear = tk.Button(self, text='Очистить', width=10, command=self.clear_canvas).grid(row=1, column=0)\n",
    "    \n",
    "    def draw(self, event):\n",
    "        x1, y1 = (event.x - self.brush_size), (event.y - self.brush_size)\n",
    "        x2, y2 = (event.x + self.brush_size), (event.y + self.brush_size)\n",
    "\n",
    "        self.canvas.create_oval(x1, y1, x2, y2, fill=self.brush_color, width=0)\n",
    "        self.draw_image.ellipse((x1, y1, x2, y2), fill='white', width=0)\n",
    "    \n",
    "    def select(self, value):\n",
    "        self.brush_size = int(value)\n",
    "    \n",
    "    def clear_canvas(self):\n",
    "        self.canvas.delete('all')\n",
    "        self.canvas['bg'] = 'white'\n",
    "        self.draw_image.rectangle((0, 0, 280, 280), width=0, fill='black')\n",
    "        \n",
    "    def show_draw_number(self):\n",
    "        drawed_image = ImageOps.contain(self.image_number, (28, 28))\n",
    "        \n",
    "        return drawed_image"
   ]
  },
  {
   "cell_type": "code",
   "execution_count": 3,
   "id": "7e5e4f11",
   "metadata": {},
   "outputs": [],
   "source": [
    "class NeuralNetwork:\n",
    "    def __init__(self, input_nodes, hidden_nodes, output_nodes, learning_rate):\n",
    "        self.i_nodes = input_nodes\n",
    "        self.h_nodes = hidden_nodes\n",
    "        self.o_nodes = output_nodes\n",
    "        \n",
    "        self.learning_rate = learning_rate\n",
    "        self.activation_func = lambda x: sc.expit(x)\n",
    "        \n",
    "        self.w_input_hidden = np.random.rand(self.h_nodes, self.i_nodes) - 0.5\n",
    "        self.w_hidden_output = np.random.rand(self.o_nodes, self.h_nodes) - 0.5\n",
    "    \n",
    "    def train(self, inputs_list, targets_list):\n",
    "        inputs = np.array(inputs_list, ndmin=2).T\n",
    "        targets = np.array(targets_list, ndmin=2).T\n",
    "        \n",
    "        hidden_inputs = np.dot(self.w_input_hidden, inputs)\n",
    "        hidden_outputs = self.activation_func(hidden_inputs)\n",
    "        \n",
    "        output_inputs = np.dot(self.w_hidden_output, hidden_outputs)\n",
    "        output_signals = self.activation_func(output_inputs)\n",
    "        \n",
    "        output_errors = targets - output_signals\n",
    "        \n",
    "        hidden_errors = np.dot(self.w_hidden_output.T, output_errors)\n",
    "        self.w_hidden_output += self.learning_rate * np.dot((output_errors * output_signals * \n",
    "                                                             (1.0 - output_signals)), hidden_outputs.T)\n",
    "        \n",
    "        self.w_input_hidden += self.learning_rate * np.dot((hidden_errors * hidden_outputs * \n",
    "                                                            (1.0 - hidden_outputs)), inputs.T)\n",
    "        \n",
    "    \n",
    "    def query(self, input_signals):\n",
    "        inputs = np.array(input_signals, ndmin=2).T\n",
    "        \n",
    "        hidden_inputs = np.dot(self.w_input_hidden, inputs)\n",
    "        hidden_outputs = self.activation_func(hidden_inputs)\n",
    "        \n",
    "        output_inputs = np.dot(self.w_hidden_output, hidden_outputs)\n",
    "        output_signals = self.activation_func(output_inputs)\n",
    "        \n",
    "        return output_signals"
   ]
  },
  {
   "cell_type": "code",
   "execution_count": 4,
   "id": "df26909b",
   "metadata": {},
   "outputs": [],
   "source": [
    "input_nodes = 784\n",
    "hidden_nodes = 150\n",
    "output_nodes = 10\n",
    "\n",
    "learning_rate = 0.1"
   ]
  },
  {
   "cell_type": "code",
   "execution_count": 5,
   "id": "01963e6b",
   "metadata": {},
   "outputs": [],
   "source": [
    "digit_classifier = NeuralNetwork(input_nodes, hidden_nodes, output_nodes, learning_rate)"
   ]
  },
  {
   "cell_type": "markdown",
   "id": "71a66107",
   "metadata": {},
   "source": [
    "# Тренировка нейронной сети"
   ]
  },
  {
   "cell_type": "code",
   "execution_count": 6,
   "id": "09ee0060",
   "metadata": {},
   "outputs": [],
   "source": [
    "training_dataset_file = open('mnist_dataset/mnist_train.csv', 'r')\n",
    "training_dataset: list = training_dataset_file.readlines()\n",
    "training_dataset_file.close()"
   ]
  },
  {
   "cell_type": "code",
   "execution_count": 7,
   "id": "d7d168eb",
   "metadata": {},
   "outputs": [
    {
     "name": "stdout",
     "output_type": "stream",
     "text": [
      "Начало обучения: 22:19:20.164935\n",
      "Эпоха 1 пройдена, время: 22:20:24.016315\n",
      "Эпоха 2 пройдена, время: 22:21:23.379303\n",
      "Эпоха 3 пройдена, время: 22:22:22.645371\n",
      "Эпоха 4 пройдена, время: 22:23:21.208839\n",
      "Эпоха 5 пройдена, время: 22:24:21.932072\n",
      "Конец обучения: 22:24:21.932072\n"
     ]
    }
   ],
   "source": [
    "from datetime import datetime\n",
    "print(f'Начало обучения: {datetime.now().time()}')\n",
    "\n",
    "# тренировка нейронной сети\n",
    "# перебор всех записей в тренировочном наборе данных\n",
    "epochs = 5\n",
    "\n",
    "for i in range(epochs):\n",
    "    for list_entry in training_dataset:\n",
    "        character_data = list_entry.split(',')\n",
    "        \n",
    "        input_data = (np.asfarray(character_data[1:]) / 255.0 * 0.99) + 0.01\n",
    "        target_data = np.zeros(output_nodes) + 0.01\n",
    "        \n",
    "        target_data[int(character_data[0])] = 0.99\n",
    "        digit_classifier.train(input_data, target_data)\n",
    "        \n",
    "    print(f'Эпоха {i + 1} пройдена, время: {datetime.now().time()}')\n",
    "    \n",
    "print(f'Конец обучения: {datetime.now().time()}')"
   ]
  },
  {
   "cell_type": "markdown",
   "id": "f5c34062",
   "metadata": {},
   "source": [
    "# Опрос нейронной сети на всем наборе данных"
   ]
  },
  {
   "cell_type": "code",
   "execution_count": 8,
   "id": "871a2c20",
   "metadata": {},
   "outputs": [],
   "source": [
    "test_dataset_file = open('mnist_dataset/mnist_test.csv', 'r')\n",
    "test_dataset: list = test_dataset_file.readlines()\n",
    "test_dataset_file.close()"
   ]
  },
  {
   "cell_type": "code",
   "execution_count": 9,
   "id": "559997c3",
   "metadata": {},
   "outputs": [],
   "source": [
    "evaluation_scores = [] # список оценочных баллов классификации\n",
    "\n",
    "for record in test_dataset:\n",
    "    all_values = record.split(',')\n",
    "    \n",
    "    correct_value = int(all_values[0])\n",
    "    \n",
    "    inputs = (np.asfarray(all_values[1:]) / 255.0 * 0.99) + 0.01\n",
    "    outputs = digit_classifier.query(inputs)\n",
    "    \n",
    "    label = np.argmax(outputs)\n",
    "    \n",
    "    if (label == correct_value):\n",
    "        evaluation_scores.append(1)"
   ]
  },
  {
   "cell_type": "code",
   "execution_count": 10,
   "id": "c12a9b77",
   "metadata": {},
   "outputs": [
    {
     "name": "stdout",
     "output_type": "stream",
     "text": [
      "Корректно классифицированных изображений: 9690.\n",
      "В процентном соотношении: 96.90%.\n"
     ]
    }
   ],
   "source": [
    "a = sum(evaluation_scores)\n",
    "\n",
    "print(f'Корректно классифицированных изображений: {sum(evaluation_scores)}.')\n",
    "print(f'В процентном соотношении: {(a / 10000 * 100):.2f}%.')"
   ]
  },
  {
   "cell_type": "markdown",
   "id": "17649d35",
   "metadata": {},
   "source": [
    "# Опрос нейронной сети на отдельных данных"
   ]
  },
  {
   "cell_type": "code",
   "execution_count": 8,
   "id": "678ba322",
   "metadata": {
    "scrolled": false
   },
   "outputs": [
    {
     "data": {
      "text/plain": [
       "<matplotlib.image.AxesImage at 0x284b886d250>"
      ]
     },
     "execution_count": 8,
     "metadata": {},
     "output_type": "execute_result"
    },
    {
     "data": {
      "image/png": "[encoded data removed]",
      "text/plain": [
       "<Figure size 640x480 with 1 Axes>"
      ]
     },
     "metadata": {},
     "output_type": "display_data"
    }
   ],
   "source": [
    "random_number = np.random.choice(test_dataset)\n",
    "\n",
    "all_values = random_number.split(',')\n",
    "ds_array = np.asfarray(all_values[1:]).reshape((28, 28))\n",
    "\n",
    "plt.imshow(ds_array, cmap='Greys', interpolation='None')"
   ]
  },
  {
   "cell_type": "code",
   "execution_count": 7,
   "id": "30cfcbd1",
   "metadata": {},
   "outputs": [
    {
     "name": "stdout",
     "output_type": "stream",
     "text": [
      "Корректное значение: 3\n"
     ]
    }
   ],
   "source": [
    "print(f'Корректное значение: {all_values[0]}')"
   ]
  },
  {
   "cell_type": "markdown",
   "id": "1274c9f8",
   "metadata": {},
   "source": [
    "### Входные сигналы"
   ]
  },
  {
   "cell_type": "code",
   "execution_count": 218,
   "id": "037da6d3",
   "metadata": {},
   "outputs": [],
   "source": [
    "input_signals = (np.asfarray(all_values[1:]) / 255.0 * 0.99) + 0.01\n",
    "output_signals = digit_classifier.query(input_signals)"
   ]
  },
  {
   "cell_type": "markdown",
   "id": "13672136",
   "metadata": {},
   "source": [
    "## Результат нейронной сети"
   ]
  },
  {
   "cell_type": "code",
   "execution_count": 220,
   "id": "9b5ba52f",
   "metadata": {},
   "outputs": [
    {
     "name": "stdout",
     "output_type": "stream",
     "text": [
      "0 || [0.00212264]\n",
      "1 || [0.00306392]\n",
      "2 || [0.00225995]\n",
      "3 || [0.9993576]\n",
      "4 || [0.00640806]\n",
      "5 || [0.00542096]\n",
      "6 || [0.00297598]\n",
      "7 || [0.00026913]\n",
      "8 || [0.00282733]\n",
      "9 || [0.005514]\n"
     ]
    }
   ],
   "source": [
    "for index, nums in enumerate(output_signals):\n",
    "    print(f'{index} || {nums}')"
   ]
  },
  {
   "cell_type": "code",
   "execution_count": 221,
   "id": "6d7515e7",
   "metadata": {},
   "outputs": [
    {
     "name": "stdout",
     "output_type": "stream",
     "text": [
      "Результат классификации: 3\n"
     ]
    }
   ],
   "source": [
    "print(f'Результат классификации: {np.argmax(output_signals)}')"
   ]
  },
  {
   "cell_type": "markdown",
   "id": "d99a9ac3",
   "metadata": {},
   "source": [
    "# Опрос нейронной сети на собственных рукописных символах"
   ]
  },
  {
   "cell_type": "code",
   "execution_count": 242,
   "id": "7f43fad3",
   "metadata": {},
   "outputs": [],
   "source": [
    "app = DrawingApp()\n",
    "app.mainloop()\n",
    "a = app.show_draw_number()"
   ]
  },
  {
   "cell_type": "code",
   "execution_count": 243,
   "id": "305bd83c",
   "metadata": {
    "scrolled": false
   },
   "outputs": [
    {
     "data": {
      "text/plain": [
       "<matplotlib.image.AxesImage at 0x25f368eea00>"
      ]
     },
     "execution_count": 243,
     "metadata": {},
     "output_type": "execute_result"
    },
    {
     "data": {
      "image/png": "[encoded data removed]",
      "text/plain": [
       "<Figure size 640x480 with 1 Axes>"
      ]
     },
     "metadata": {},
     "output_type": "display_data"
    }
   ],
   "source": [
    "img = np.array(a)\n",
    "plt.imshow(img, cmap='Greys', interpolation='None')"
   ]
  },
  {
   "cell_type": "code",
   "execution_count": 244,
   "id": "5cf35983",
   "metadata": {
    "scrolled": true
   },
   "outputs": [],
   "source": [
    "input_signals = (img.reshape(784,) / 255.0 * 0.99) + 0.01\n",
    "output_signals = digit_classifier.query(input_signals)"
   ]
  },
  {
   "cell_type": "code",
   "execution_count": 245,
   "id": "8f542a67",
   "metadata": {
    "scrolled": true
   },
   "outputs": [
    {
     "name": "stdout",
     "output_type": "stream",
     "text": [
      "0 || [0.00067517]\n",
      "1 || [0.0165507]\n",
      "2 || [0.00077685]\n",
      "3 || [0.00017035]\n",
      "4 || [0.51323879]\n",
      "5 || [0.02793853]\n",
      "6 || [0.00043876]\n",
      "7 || [0.00193923]\n",
      "8 || [0.00068432]\n",
      "9 || [0.00210332]\n"
     ]
    }
   ],
   "source": [
    "for index, nums in enumerate(output_signals):\n",
    "    print(f'{index} || {nums}')"
   ]
  },
  {
   "cell_type": "code",
   "execution_count": 246,
   "id": "b448371b",
   "metadata": {},
   "outputs": [
    {
     "name": "stdout",
     "output_type": "stream",
     "text": [
      "Результат классификации: 4\n"
     ]
    }
   ],
   "source": [
    "print(f'Результат классификации: {np.argmax(output_signals)}')"
   ]
  },
  {
   "cell_type": "code",
   "execution_count": null,
   "id": "ff0d99ae",
   "metadata": {},
   "outputs": [],
   "source": []
  }
 ],
 "metadata": {
  "kernelspec": {
   "display_name": "Python 3 (ipykernel)",
   "language": "python",
   "name": "python3"
  },
  "language_info": {
   "codemirror_mode": {
    "name": "ipython",
    "version": 3
   },
   "file_extension": ".py",
   "mimetype": "text/x-python",
   "name": "python",
   "nbconvert_exporter": "python",
   "pygments_lexer": "ipython3",
   "version": "3.9.13"
  },
  "toc": {
   "base_numbering": 1,
   "nav_menu": {},
   "number_sections": true,
   "sideBar": true,
   "skip_h1_title": false,
   "title_cell": "Table of Contents",
   "title_sidebar": "Contents",
   "toc_cell": false,
   "toc_position": {},
   "toc_section_display": true,
   "toc_window_display": false
  }
 },
 "nbformat": 4,
 "nbformat_minor": 5
}
